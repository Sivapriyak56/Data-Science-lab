{
 "cells": [
  {
   "cell_type": "code",
   "execution_count": 2,
   "id": "8ebcc0f8",
   "metadata": {},
   "outputs": [
    {
     "name": "stdout",
     "output_type": "stream",
     "text": [
      "Downloading data from https://storage.googleapis.com/tensorflow/tf-keras-datasets/mnist.npz\n",
      "11493376/11490434 [==============================] - 3s 0us/step\n",
      "11501568/11490434 [==============================] - 3s 0us/step\n"
     ]
    }
   ],
   "source": [
    "from tensorflow.keras.datasets import mnist\n",
    "(train_images, train_labels), (test_images, test_labels) = mnist.load_data()"
   ]
  },
  {
   "cell_type": "code",
   "execution_count": 3,
   "id": "bf88b685",
   "metadata": {},
   "outputs": [
    {
     "name": "stdout",
     "output_type": "stream",
     "text": [
      "Training data shape :  (60000, 28, 28) (60000,)\n",
      "Testing data shape :  (10000, 28, 28) (10000,)\n"
     ]
    }
   ],
   "source": [
    "from tensorflow.keras.utils import to_categorical\n",
    "\n",
    "print('Training data shape : ', train_images.shape, train_labels.shape)\n",
    "\n",
    "print('Testing data shape : ', test_images.shape, test_labels.shape)"
   ]
  },
  {
   "cell_type": "code",
   "execution_count": 5,
   "id": "93a22104",
   "metadata": {},
   "outputs": [
    {
     "name": "stdout",
     "output_type": "stream",
     "text": [
      "Total number of outputs :  10\n",
      "Output classes :  [0 1 2 3 4 5 6 7 8 9]\n"
     ]
    }
   ],
   "source": [
    "import numpy as np\n",
    "classes = np.unique(train_labels)\n",
    "classes_num = len(classes)\n",
    "print('Total number of outputs : ', classes_num)\n",
    "print('Output classes : ', classes)"
   ]
  },
  {
   "cell_type": "code",
   "execution_count": 8,
   "id": "ea515db2",
   "metadata": {},
   "outputs": [
    {
     "data": {
      "text/plain": [
       "Text(0.5, 1.0, 'Ground Truth : 5')"
      ]
     },
     "execution_count": 8,
     "metadata": {},
     "output_type": "execute_result"
    },
    {
     "data": {
      "image/png": "[encoded data removed]",
      "text/plain": [
       "<Figure size 432x288 with 1 Axes>"
      ]
     },
     "metadata": {
      "needs_background": "light"
     },
     "output_type": "display_data"
    }
   ],
   "source": [
    "import matplotlib.pyplot as plt\n",
    "plt.subplot(121)\n",
    "plt.imshow(train_images[0,:,:], cmap='gray')\n",
    "plt.title(\"Ground Truth : {}\".format(train_labels[0]))\n"
   ]
  },
  {
   "cell_type": "code",
   "execution_count": 9,
   "id": "18904f72",
   "metadata": {},
   "outputs": [
    {
     "data": {
      "text/plain": [
       "Text(0.5, 1.0, 'Ground Truth : 7')"
      ]
     },
     "execution_count": 9,
     "metadata": {},
     "output_type": "execute_result"
    },
    {
     "data": {
      "image/png": "[encoded data removed]",
      "text/plain": [
       "<Figure size 432x288 with 1 Axes>"
      ]
     },
     "metadata": {
      "needs_background": "light"
     },
     "output_type": "display_data"
    }
   ],
   "source": [
    "plt.subplot(122)\n",
    "plt.imshow(test_images[0,:,:], cmap='gray')\n",
    "plt.title(\"Ground Truth : {}\".format(test_labels[0]))"
   ]
  },
  {
   "cell_type": "code",
   "execution_count": 10,
   "id": "8d1535ec",
   "metadata": {},
   "outputs": [],
   "source": [
    "dim_data = np.prod(train_images.shape[1:])\n",
    "train_data = train_images.reshape(train_images.shape[0], dim_data)\n",
    "test_data = test_images.reshape(test_images.shape[0], dim_data)"
   ]
  },
  {
   "cell_type": "code",
   "execution_count": 11,
   "id": "859a150e",
   "metadata": {},
   "outputs": [],
   "source": [
    "train_data = train_data.astype('float32')\n",
    "test_data = test_data.astype('float32')"
   ]
  },
  {
   "cell_type": "code",
   "execution_count": 12,
   "id": "cdfbf4e2",
   "metadata": {},
   "outputs": [],
   "source": [
    "train_labels_one_hot = to_categorical(train_labels)\n",
    "test_labels_one_hot = to_categorical(test_labels)"
   ]
  },
  {
   "cell_type": "code",
   "execution_count": 13,
   "id": "734c0de5",
   "metadata": {},
   "outputs": [],
   "source": [
    "from tensorflow.keras.models import Sequential\n",
    "from tensorflow.keras.layers import Dense\n",
    "\n",
    "model = Sequential()\n",
    "model.add(Dense(512, activation='relu', input_shape=(dim_data,)))\n",
    "model.add(Dense(512, activation='relu'))\n",
    "model.add(Dense(classes_num, activation='softmax'))"
   ]
  },
  {
   "cell_type": "code",
   "execution_count": 14,
   "id": "7e371912",
   "metadata": {},
   "outputs": [],
   "source": [
    "model.compile(optimizer='rmsprop', loss='categorical_crossentropy', metrics=['accuracy'])"
   ]
  },
  {
   "cell_type": "code",
   "execution_count": 16,
   "id": "278921e4",
   "metadata": {},
   "outputs": [
    {
     "name": "stdout",
     "output_type": "stream",
     "text": [
      "Epoch 1/20\n",
      "235/235 [==============================] - 11s 44ms/step - loss: 0.0909 - accuracy: 0.9930 - val_loss: 0.5975 - val_accuracy: 0.9772\n",
      "Epoch 2/20\n",
      "235/235 [==============================] - 7s 31ms/step - loss: 0.0823 - accuracy: 0.9938 - val_loss: 0.6955 - val_accuracy: 0.9761\n",
      "Epoch 3/20\n",
      "235/235 [==============================] - 7s 31ms/step - loss: 0.0813 - accuracy: 0.9937 - val_loss: 0.6034 - val_accuracy: 0.9788\n",
      "Epoch 4/20\n",
      "235/235 [==============================] - 7s 31ms/step - loss: 0.0806 - accuracy: 0.9934 - val_loss: 0.6002 - val_accuracy: 0.9782\n",
      "Epoch 5/20\n",
      "235/235 [==============================] - 7s 31ms/step - loss: 0.0729 - accuracy: 0.9943 - val_loss: 0.8181 - val_accuracy: 0.9735\n",
      "Epoch 6/20\n",
      "235/235 [==============================] - 8s 33ms/step - loss: 0.0847 - accuracy: 0.9941 - val_loss: 0.7025 - val_accuracy: 0.9770\n",
      "Epoch 7/20\n",
      "235/235 [==============================] - 7s 32ms/step - loss: 0.0795 - accuracy: 0.9941 - val_loss: 0.8382 - val_accuracy: 0.9747\n",
      "Epoch 8/20\n",
      "235/235 [==============================] - 8s 33ms/step - loss: 0.0756 - accuracy: 0.9948 - val_loss: 0.7076 - val_accuracy: 0.9769\n",
      "Epoch 9/20\n",
      "235/235 [==============================] - 8s 33ms/step - loss: 0.0670 - accuracy: 0.9956 - val_loss: 0.6909 - val_accuracy: 0.9787\n",
      "Epoch 10/20\n",
      "235/235 [==============================] - 8s 33ms/step - loss: 0.0707 - accuracy: 0.9956 - val_loss: 0.7233 - val_accuracy: 0.9786\n",
      "Epoch 11/20\n",
      "235/235 [==============================] - 8s 33ms/step - loss: 0.0649 - accuracy: 0.9950 - val_loss: 0.7708 - val_accuracy: 0.9783\n",
      "Epoch 12/20\n",
      "235/235 [==============================] - 8s 32ms/step - loss: 0.0733 - accuracy: 0.9956 - val_loss: 0.7699 - val_accuracy: 0.9788\n",
      "Epoch 13/20\n",
      "235/235 [==============================] - 8s 33ms/step - loss: 0.0757 - accuracy: 0.9955 - val_loss: 0.8844 - val_accuracy: 0.9770\n",
      "Epoch 14/20\n",
      "235/235 [==============================] - 8s 33ms/step - loss: 0.0660 - accuracy: 0.9959 - val_loss: 0.7719 - val_accuracy: 0.9808\n",
      "Epoch 15/20\n",
      "235/235 [==============================] - 8s 33ms/step - loss: 0.0612 - accuracy: 0.9961 - val_loss: 0.7698 - val_accuracy: 0.9813\n",
      "Epoch 16/20\n",
      "235/235 [==============================] - 8s 33ms/step - loss: 0.0769 - accuracy: 0.9956 - val_loss: 0.9415 - val_accuracy: 0.9777\n",
      "Epoch 17/20\n",
      "235/235 [==============================] - 8s 32ms/step - loss: 0.0642 - accuracy: 0.9966 - val_loss: 0.9088 - val_accuracy: 0.9788\n",
      "Epoch 18/20\n",
      "235/235 [==============================] - 8s 32ms/step - loss: 0.0684 - accuracy: 0.9961 - val_loss: 0.9208 - val_accuracy: 0.9796\n",
      "Epoch 19/20\n",
      "235/235 [==============================] - 8s 32ms/step - loss: 0.0667 - accuracy: 0.9965 - val_loss: 1.0623 - val_accuracy: 0.9788\n",
      "Epoch 20/20\n",
      "235/235 [==============================] - 8s 32ms/step - loss: 0.0638 - accuracy: 0.9965 - val_loss: 1.0879 - val_accuracy: 0.9802\n"
     ]
    }
   ],
   "source": [
    "history = model.fit(train_data, train_labels_one_hot, batch_size=256, epochs=20, verbose=1, \n",
    "                   validation_data=(test_data, test_labels_one_hot))"
   ]
  },
  {
   "cell_type": "code",
   "execution_count": 17,
   "id": "08948db8",
   "metadata": {},
   "outputs": [
    {
     "name": "stdout",
     "output_type": "stream",
     "text": [
      "313/313 [==============================] - 3s 10ms/step - loss: 1.0879 - accuracy: 0.9802\n",
      "Evaluation result on Test Data : Loss = 1.0879015922546387, accuracy = 0.9801999926567078\n"
     ]
    }
   ],
   "source": [
    "[test_loss, test_acc] = model.evaluate(test_data, test_labels_one_hot)\n",
    "print(\"Evaluation result on Test Data : Loss = {}, accuracy = {}\".format(test_loss, test_acc))"
   ]
  },
  {
   "cell_type": "code",
   "execution_count": null,
   "id": "d3fda5b9",
   "metadata": {},
   "outputs": [],
   "source": []
  }
 ],
 "metadata": {
  "kernelspec": {
   "display_name": "Python 3 (ipykernel)",
   "language": "python",
   "name": "python3"
  },
  "language_info": {
   "codemirror_mode": {
    "name": "ipython",
    "version": 3
   },
   "file_extension": ".py",
   "mimetype": "text/x-python",
   "name": "python",
   "nbconvert_exporter": "python",
   "pygments_lexer": "ipython3",
   "version": "3.9.7"
  }
 },
 "nbformat": 4,
 "nbformat_minor": 5
}
